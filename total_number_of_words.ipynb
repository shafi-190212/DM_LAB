{
 "cells": [
  {
   "cell_type": "code",
   "execution_count": 1,
   "metadata": {},
   "outputs": [
    {
     "name": "stderr",
     "output_type": "stream",
     "text": [
      "C:\\Users\\mushf\\AppData\\Local\\Temp\\ipykernel_7324\\1639796613.py:5: DtypeWarning: Columns (3) have mixed types. Specify dtype option on import or set low_memory=False.\n",
      "  data = pd.read_csv(\"D:/DM_LAB/merged_data.csv\")  # Replace \"your_data.csv\" with your file path\n"
     ]
    },
    {
     "name": "stdout",
     "output_type": "stream",
     "text": [
      "Total number of words: 25054282\n"
     ]
    }
   ],
   "source": [
    "import pandas as pd\n",
    "import re\n",
    "\n",
    "# Load CSV data into a DataFrame\n",
    "data = pd.read_csv(\"D:/DM_LAB/merged_data.csv\")  # Replace \"your_data.csv\" with your file path\n",
    "\n",
    "# Extract the columns containing the text data\n",
    "text_column = data['news_description']  # Replace \"news_description\" with the actual column name\n",
    "title_column = data['news_title']  # Replace \"news_title\" with the actual column name\n",
    "date_column = data['date']  # Replace \"date\" with the actual column name\n",
    "\n",
    "# Combine all text data into a single string\n",
    "all_text = ' '.join(text_column.astype(str) + ' ' + title_column.astype(str) + ' ' + date_column.astype(str))\n",
    "\n",
    "# Clean the text\n",
    "cleaned_text = re.sub(\"[:+—–_(){}\\n;|.,?’!@<>।॥“”'\\\"\\\\[\\\\]]\", ' ', all_text)\n",
    "\n",
    "# Tokenize into words\n",
    "words = cleaned_text.split()\n",
    "\n",
    "# Count the total number of words\n",
    "total_words = len(words)\n",
    "\n",
    "print(f\"Total number of words: {total_words}\")\n"
   ]
  }
 ],
 "metadata": {
  "kernelspec": {
   "display_name": "Python 3",
   "language": "python",
   "name": "python3"
  },
  "language_info": {
   "codemirror_mode": {
    "name": "ipython",
    "version": 3
   },
   "file_extension": ".py",
   "mimetype": "text/x-python",
   "name": "python",
   "nbconvert_exporter": "python",
   "pygments_lexer": "ipython3",
   "version": "3.11.2"
  },
  "orig_nbformat": 4
 },
 "nbformat": 4,
 "nbformat_minor": 2
}
