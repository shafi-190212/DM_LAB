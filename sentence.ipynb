{
 "cells": [
  {
   "cell_type": "code",
   "execution_count": 1,
   "metadata": {},
   "outputs": [
    {
     "name": "stderr",
     "output_type": "stream",
     "text": [
      "C:\\Users\\mushf\\AppData\\Local\\Temp\\ipykernel_4652\\761971937.py:9: DtypeWarning: Columns (3) have mixed types. Specify dtype option on import or set low_memory=False.\n",
      "  data = pd.read_csv(\"D:/DM_LAB/merged_data.csv\")  # Replace \"your_data.csv\" with your file path\n"
     ]
    }
   ],
   "source": [
    "import pandas as pd\n",
    "import re\n",
    "\n",
    "def clean_text(text):\n",
    "    cleaned_text = re.sub(\"[:+—–_(){}\\n;|.?\\'!@<>।॥“”\\\"\\\\[\\\\]]\", ' ', text)\n",
    "    return cleaned_text\n",
    "\n",
    "# Load CSV data into a DataFrame\n",
    "data = pd.read_csv(\"D:/DM_LAB/merged_data.csv\")  # Replace \"your_data.csv\" with your file path\n",
    "\n",
    "# Extract the columns containing the text data\n",
    "text_column = data['news_description']  # Replace \"news_description\" with the actual column name\n",
    "title_column = data['news_title']  # Replace \"news_title\" with the actual column name\n",
    "date_column = data['date']  # Replace \"date\" with the actual column name\n",
    "\n",
    "# Convert non-string values to strings and clean the text\n",
    "cleaned_texts = [clean_text(str(text)) for text in text_column]\n",
    "cleaned_titles = [clean_text(str(title)) for title in title_column]\n",
    "cleaned_dates = [clean_text(str(date)) for date in date_column]\n",
    "\n",
    "# Combine all cleaned text data into a single string\n",
    "all_text = ' '.join(cleaned_texts + cleaned_titles + cleaned_dates)\n",
    "\n",
    "# Split cleaned text into sentences\n",
    "sentences_list = []\n",
    "for text in all_text:\n",
    "    sentences = re.split(r'[।॥.!?]', text)  # Split by sentence-ending punctuation\n",
    "    sentences = [sentence.strip() for sentence in sentences if sentence.strip()]  # Remove empty strings\n",
    "    sentences_list.extend(sentences)\n",
    "\n",
    "# Remove empty sentences and NaN values\n",
    "sentences_list = [sentence for sentence in sentences_list if sentence and sentence != \"nan\"]\n",
    "\n",
    "# Create a DataFrame from the sentences data\n",
    "sentences_df = pd.DataFrame(sentences_list, columns=['Sentence'])\n",
    "\n",
    "# Specify the path to save the CSV file for sentences\n",
    "output_csv_path = \"D:/DM_LAB/sentences.csv\"  # Replace with your desired file path\n",
    "\n",
    "# Save the sentences DataFrame to a CSV file\n",
    "sentences_df.to_csv(output_csv_path, index=False)\n",
    "\n",
    "# Optionally, you can display the list of sentences\n",
    "for index, sentence in enumerate(sentences_list, start=1):\n",
    "    print(f\"Sentence {index}: {sentence}\")\n"
   ]
  },
  {
   "cell_type": "code",
   "execution_count": null,
   "metadata": {},
   "outputs": [],
   "source": [
    "import pandas as pd\n",
    "import re\n",
    "\n",
    "def clean_text(text):\n",
    "    cleaned_text = re.sub(\"[:+—–_(){}\\n;|.,?’!@<>।॥“”'\\\"\\\\[\\\\]]\", ' ', text)\n",
    "    return cleaned_text\n",
    "\n",
    "# Load CSV data into a DataFrame\n",
    "data = pd.read_csv(\"D:/DM_LAB/merged_data.csv\")  # Replace \"your_data.csv\" with your file path\n",
    "\n",
    "# Extract the columns containing the text data\n",
    "text_column = data['news_description']  # Replace \"news_description\" with the actual column name\n",
    "title_column = data['news_title']  # Replace \"news_title\" with the actual column name\n",
    "date_column = data['date']  # Replace \"date\" with the actual column name\n",
    "\n",
    "# Combine all text data into a single string\n",
    "all_text = ' '.join(text_column.astype(str) + ' ' + title_column.astype(str) + ' ' + date_column.astype(str))\n",
    "\n",
    "# Clean the text\n",
    "cleaned_text = re.sub(\"[:+—–_(){}\\n;|.?\\'!@<>।॥“”\\\"\\\\[\\\\]]\", ' ', all_text)\n",
    "\n",
    "# Split into sentences\n",
    "sentences = re.split(r'[।॥.!?]', cleaned_text)  # Split by sentence-ending punctuation\n",
    "\n",
    "# Remove empty strings\n",
    "sentences = [sentence.strip() for sentence in sentences if sentence.strip()]\n",
    "\n",
    "# Print the sentences (optional)\n",
    "for index, sentence in enumerate(sentences, start=1):\n",
    "    print(f\"Sentence {index}: {sentence}\")\n"
   ]
  }
 ],
 "metadata": {
  "kernelspec": {
   "display_name": "Python 3",
   "language": "python",
   "name": "python3"
  },
  "language_info": {
   "codemirror_mode": {
    "name": "ipython",
    "version": 3
   },
   "file_extension": ".py",
   "mimetype": "text/x-python",
   "name": "python",
   "nbconvert_exporter": "python",
   "pygments_lexer": "ipython3",
   "version": "3.11.2"
  },
  "orig_nbformat": 4
 },
 "nbformat": 4,
 "nbformat_minor": 2
}
